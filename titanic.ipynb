{
 "cells": [
  {
   "cell_type": "code",
   "execution_count": 20,
   "metadata": {
    "collapsed": true
   },
   "outputs": [],
   "source": [
    "# TODO: read about feature selection / combination in pipelines\n",
    "# http://zacstewart.com/2014/08/05/pipelines-of-featureunions-of-pipelines.html\n",
    "# http://scikit-learn.org/stable/auto_examples/feature_stacker.html\n",
    "# http://scikit-learn.org/stable/auto_examples/hetero_feature_union.html\n",
    "\n",
    "# https://github.com/paulgb/sklearn-pandas"
   ]
  },
  {
   "cell_type": "code",
   "execution_count": 66,
   "metadata": {
    "collapsed": true
   },
   "outputs": [],
   "source": [
    "# global settings\n",
    "CORES = -1        # parallelization\n",
    "RND = 123        # random seed"
   ]
  },
  {
   "cell_type": "code",
   "execution_count": 67,
   "metadata": {
    "collapsed": false
   },
   "outputs": [],
   "source": [
    "%matplotlib inline\n",
    "import pandas as pd\n",
    "import numpy as np\n",
    "import scipy as sp\n",
    "import seaborn as sns\n",
    "sns.set(style=\"white\", palette=\"muted\", color_codes=True)\n",
    "import matplotlib.pyplot as plt\n",
    "from sklearn.base import BaseEstimator, TransformerMixin\n",
    "from sklearn import preprocessing\n",
    "from sklearn import decomposition\n",
    "from sklearn import pipeline\n",
    "from sklearn import metrics\n",
    "from sklearn import linear_model\n",
    "from sklearn import svm\n",
    "from sklearn import ensemble\n",
    "from sklearn import tree\n",
    "from sklearn import cross_validation\n",
    "from sklearn_pandas import DataFrameMapper, cross_val_score\n",
    "from sklearn.grid_search import GridSearchCV\n",
    "import xgboost as xgb"
   ]
  },
  {
   "cell_type": "markdown",
   "metadata": {},
   "source": [
    "#### Data Load"
   ]
  },
  {
   "cell_type": "code",
   "execution_count": 35,
   "metadata": {
    "collapsed": true
   },
   "outputs": [],
   "source": [
    "def fetch(fname,\n",
    "          drop=['PassengerId', 'Name', 'Ticket', 'Cabin'],\n",
    "          add_derived=True):\n",
    "    \"\"\"\n",
    "    add_title   : extract title (e.g., Mr, Ms, Mrs, etc) from passanger name\n",
    "    \"\"\"\n",
    "    drop = drop or []\n",
    "    df = pd.read_csv(fname)\n",
    "    # optional: extract title from name\n",
    "    if add_derived and 'Name' in df.columns:\n",
    "        df['Title'] = (df['Name']\n",
    "                       .apply(lambda x: x.split(',')[1].split()[0] if ',' in x else np.Nan)\n",
    "                       .apply(lambda x: x[:-1] if x.endswith('.') else x))\n",
    "    if add_derived and 'Cabin' in df.columns:\n",
    "        df['Deck'] = df['Cabin'].str[:1].fillna('X')\n",
    "    if add_derived and 'Ticket' in df.columns:\n",
    "        df['TicketNum'] = df.Ticket.str.isnumeric().astype(np.float64)\n",
    "    df_train.Ticket.str.isnumeric()\n",
    "    drop = [col for col in drop if col in df.columns]\n",
    "    df = df.drop(drop, axis=1)\n",
    "    return df"
   ]
  },
  {
   "cell_type": "code",
   "execution_count": 36,
   "metadata": {
    "collapsed": false
   },
   "outputs": [
    {
     "data": {
      "text/html": [
       "<div>\n",
       "<table border=\"1\" class=\"dataframe\">\n",
       "  <thead>\n",
       "    <tr style=\"text-align: right;\">\n",
       "      <th></th>\n",
       "      <th>PassengerId</th>\n",
       "      <th>Survived</th>\n",
       "      <th>Pclass</th>\n",
       "      <th>Sex</th>\n",
       "      <th>Age</th>\n",
       "      <th>SibSp</th>\n",
       "      <th>Parch</th>\n",
       "      <th>Ticket</th>\n",
       "      <th>Fare</th>\n",
       "      <th>Cabin</th>\n",
       "      <th>Embarked</th>\n",
       "      <th>Title</th>\n",
       "      <th>Deck</th>\n",
       "      <th>TicketNum</th>\n",
       "    </tr>\n",
       "  </thead>\n",
       "  <tbody>\n",
       "    <tr>\n",
       "      <th>0</th>\n",
       "      <td>1</td>\n",
       "      <td>0</td>\n",
       "      <td>3</td>\n",
       "      <td>male</td>\n",
       "      <td>22</td>\n",
       "      <td>1</td>\n",
       "      <td>0</td>\n",
       "      <td>A/5 21171</td>\n",
       "      <td>7.2500</td>\n",
       "      <td>NaN</td>\n",
       "      <td>S</td>\n",
       "      <td>Mr</td>\n",
       "      <td>X</td>\n",
       "      <td>0</td>\n",
       "    </tr>\n",
       "    <tr>\n",
       "      <th>1</th>\n",
       "      <td>2</td>\n",
       "      <td>1</td>\n",
       "      <td>1</td>\n",
       "      <td>female</td>\n",
       "      <td>38</td>\n",
       "      <td>1</td>\n",
       "      <td>0</td>\n",
       "      <td>PC 17599</td>\n",
       "      <td>71.2833</td>\n",
       "      <td>C85</td>\n",
       "      <td>C</td>\n",
       "      <td>Mrs</td>\n",
       "      <td>C</td>\n",
       "      <td>0</td>\n",
       "    </tr>\n",
       "    <tr>\n",
       "      <th>2</th>\n",
       "      <td>3</td>\n",
       "      <td>1</td>\n",
       "      <td>3</td>\n",
       "      <td>female</td>\n",
       "      <td>26</td>\n",
       "      <td>0</td>\n",
       "      <td>0</td>\n",
       "      <td>STON/O2. 3101282</td>\n",
       "      <td>7.9250</td>\n",
       "      <td>NaN</td>\n",
       "      <td>S</td>\n",
       "      <td>Miss</td>\n",
       "      <td>X</td>\n",
       "      <td>0</td>\n",
       "    </tr>\n",
       "    <tr>\n",
       "      <th>3</th>\n",
       "      <td>4</td>\n",
       "      <td>1</td>\n",
       "      <td>1</td>\n",
       "      <td>female</td>\n",
       "      <td>35</td>\n",
       "      <td>1</td>\n",
       "      <td>0</td>\n",
       "      <td>113803</td>\n",
       "      <td>53.1000</td>\n",
       "      <td>C123</td>\n",
       "      <td>S</td>\n",
       "      <td>Mrs</td>\n",
       "      <td>C</td>\n",
       "      <td>1</td>\n",
       "    </tr>\n",
       "    <tr>\n",
       "      <th>4</th>\n",
       "      <td>5</td>\n",
       "      <td>0</td>\n",
       "      <td>3</td>\n",
       "      <td>male</td>\n",
       "      <td>35</td>\n",
       "      <td>0</td>\n",
       "      <td>0</td>\n",
       "      <td>373450</td>\n",
       "      <td>8.0500</td>\n",
       "      <td>NaN</td>\n",
       "      <td>S</td>\n",
       "      <td>Mr</td>\n",
       "      <td>X</td>\n",
       "      <td>1</td>\n",
       "    </tr>\n",
       "  </tbody>\n",
       "</table>\n",
       "</div>"
      ],
      "text/plain": [
       "   PassengerId  Survived  Pclass     Sex  Age  SibSp  Parch            Ticket  \\\n",
       "0            1         0       3    male   22      1      0         A/5 21171   \n",
       "1            2         1       1  female   38      1      0          PC 17599   \n",
       "2            3         1       3  female   26      0      0  STON/O2. 3101282   \n",
       "3            4         1       1  female   35      1      0            113803   \n",
       "4            5         0       3    male   35      0      0            373450   \n",
       "\n",
       "      Fare Cabin Embarked Title Deck  TicketNum  \n",
       "0   7.2500   NaN        S    Mr    X          0  \n",
       "1  71.2833   C85        C   Mrs    C          0  \n",
       "2   7.9250   NaN        S  Miss    X          0  \n",
       "3  53.1000  C123        S   Mrs    C          1  \n",
       "4   8.0500   NaN        S    Mr    X          1  "
      ]
     },
     "execution_count": 36,
     "metadata": {},
     "output_type": "execute_result"
    }
   ],
   "source": [
    "# data\n",
    "df = df_train = fetch('titanic/train.csv', drop=None)\n",
    "df_comp  = fetch('titanic/test.csv', drop=None)\n",
    "df.drop('Name', axis=1).head(5)"
   ]
  },
  {
   "cell_type": "markdown",
   "metadata": {},
   "source": [
    "#### Visualization"
   ]
  },
  {
   "cell_type": "code",
   "execution_count": 6,
   "metadata": {
    "collapsed": false
   },
   "outputs": [
    {
     "name": "stderr",
     "output_type": "stream",
     "text": [
      "/Users/Anton/anaconda/lib/python2.7/site-packages/matplotlib/__init__.py:892: UserWarning: axes.color_cycle is deprecated and replaced with axes.prop_cycle; please use the latter.\n",
      "  warnings.warn(self.msg_depr % (key, alt_key))\n"
     ]
    },
    {
     "data": {
      "text/plain": [
       "<seaborn.axisgrid.PairGrid at 0x10633ef50>"
      ]
     },
     "execution_count": 6,
     "metadata": {},
     "output_type": "execute_result"
    },
    {
     "data": {
      "image/png": "[encoded data removed]",
      "text/plain": [
       "<matplotlib.figure.Figure at 0x10e9288d0>"
      ]
     },
     "metadata": {},
     "output_type": "display_data"
    }
   ],
   "source": [
    "sns.pairplot(df_train, x_vars=['Age','Fare'], y_vars='Survived', size=7, aspect=0.7)"
   ]
  },
  {
   "cell_type": "code",
   "execution_count": 7,
   "metadata": {
    "collapsed": false
   },
   "outputs": [
    {
     "data": {
      "text/plain": [
       "<seaborn.axisgrid.PairGrid at 0x1107b9090>"
      ]
     },
     "execution_count": 7,
     "metadata": {},
     "output_type": "execute_result"
    },
    {
     "data": {
      "image/png": "[encoded data removed]",
      "text/plain": [
       "<matplotlib.figure.Figure at 0x110795490>"
      ]
     },
     "metadata": {},
     "output_type": "display_data"
    }
   ],
   "source": [
    "sns.pairplot(df_train, x_vars=['Age'], y_vars='Fare', size=7, aspect=0.7)"
   ]
  },
  {
   "cell_type": "code",
   "execution_count": 8,
   "metadata": {
    "collapsed": false
   },
   "outputs": [
    {
     "data": {
      "text/plain": [
       "<matplotlib.axes._subplots.AxesSubplot at 0x1112b9f90>"
      ]
     },
     "execution_count": 8,
     "metadata": {},
     "output_type": "execute_result"
    },
    {
     "data": {
      "image/png": "[encoded data removed]",
      "text/plain": [
       "<matplotlib.figure.Figure at 0x110dbdc10>"
      ]
     },
     "metadata": {},
     "output_type": "display_data"
    }
   ],
   "source": [
    "# Set up the matplotlib figure\n",
    "f, axes = plt.subplots(2, figsize=(7, 7), sharex=False)\n",
    "sns.despine(left=True)\n",
    "\n",
    "sns.distplot(df_train['Fare'].dropna(), hist=True, rug=True, color=\"b\", ax=axes[0])\n",
    "sns.distplot(df_train['Age'].dropna(), hist=True, rug=True, color=\"r\", ax=axes[1])"
   ]
  },
  {
   "cell_type": "markdown",
   "metadata": {},
   "source": [
    "#### Define features"
   ]
  },
  {
   "cell_type": "code",
   "execution_count": 9,
   "metadata": {
    "collapsed": false
   },
   "outputs": [
    {
     "data": {
      "text/html": [
       "<div>\n",
       "<table border=\"1\" class=\"dataframe\">\n",
       "  <thead>\n",
       "    <tr style=\"text-align: right;\">\n",
       "      <th></th>\n",
       "      <th>Survived</th>\n",
       "      <th>Pclass</th>\n",
       "      <th>Sex</th>\n",
       "      <th>Age</th>\n",
       "      <th>SibSp</th>\n",
       "      <th>Parch</th>\n",
       "      <th>Ticket</th>\n",
       "      <th>Fare</th>\n",
       "      <th>Cabin</th>\n",
       "      <th>Embarked</th>\n",
       "      <th>Title</th>\n",
       "      <th>Deck</th>\n",
       "    </tr>\n",
       "  </thead>\n",
       "  <tbody>\n",
       "    <tr>\n",
       "      <th>0</th>\n",
       "      <td>0</td>\n",
       "      <td>3</td>\n",
       "      <td>male</td>\n",
       "      <td>22</td>\n",
       "      <td>1</td>\n",
       "      <td>0</td>\n",
       "      <td>A/5 21171</td>\n",
       "      <td>7.2500</td>\n",
       "      <td>NaN</td>\n",
       "      <td>S</td>\n",
       "      <td>Mr</td>\n",
       "      <td>X</td>\n",
       "    </tr>\n",
       "    <tr>\n",
       "      <th>1</th>\n",
       "      <td>1</td>\n",
       "      <td>1</td>\n",
       "      <td>female</td>\n",
       "      <td>38</td>\n",
       "      <td>1</td>\n",
       "      <td>0</td>\n",
       "      <td>PC 17599</td>\n",
       "      <td>71.2833</td>\n",
       "      <td>C85</td>\n",
       "      <td>C</td>\n",
       "      <td>Mrs</td>\n",
       "      <td>C</td>\n",
       "    </tr>\n",
       "    <tr>\n",
       "      <th>2</th>\n",
       "      <td>1</td>\n",
       "      <td>3</td>\n",
       "      <td>female</td>\n",
       "      <td>26</td>\n",
       "      <td>0</td>\n",
       "      <td>0</td>\n",
       "      <td>STON/O2. 3101282</td>\n",
       "      <td>7.9250</td>\n",
       "      <td>NaN</td>\n",
       "      <td>S</td>\n",
       "      <td>Miss</td>\n",
       "      <td>X</td>\n",
       "    </tr>\n",
       "    <tr>\n",
       "      <th>3</th>\n",
       "      <td>1</td>\n",
       "      <td>1</td>\n",
       "      <td>female</td>\n",
       "      <td>35</td>\n",
       "      <td>1</td>\n",
       "      <td>0</td>\n",
       "      <td>113803</td>\n",
       "      <td>53.1000</td>\n",
       "      <td>C123</td>\n",
       "      <td>S</td>\n",
       "      <td>Mrs</td>\n",
       "      <td>C</td>\n",
       "    </tr>\n",
       "    <tr>\n",
       "      <th>4</th>\n",
       "      <td>0</td>\n",
       "      <td>3</td>\n",
       "      <td>male</td>\n",
       "      <td>35</td>\n",
       "      <td>0</td>\n",
       "      <td>0</td>\n",
       "      <td>373450</td>\n",
       "      <td>8.0500</td>\n",
       "      <td>NaN</td>\n",
       "      <td>S</td>\n",
       "      <td>Mr</td>\n",
       "      <td>X</td>\n",
       "    </tr>\n",
       "  </tbody>\n",
       "</table>\n",
       "</div>"
      ],
      "text/plain": [
       "   Survived  Pclass     Sex  Age  SibSp  Parch            Ticket     Fare  \\\n",
       "0         0       3    male   22      1      0         A/5 21171   7.2500   \n",
       "1         1       1  female   38      1      0          PC 17599  71.2833   \n",
       "2         1       3  female   26      0      0  STON/O2. 3101282   7.9250   \n",
       "3         1       1  female   35      1      0            113803  53.1000   \n",
       "4         0       3    male   35      0      0            373450   8.0500   \n",
       "\n",
       "  Cabin Embarked Title Deck  \n",
       "0   NaN        S    Mr    X  \n",
       "1   C85        C   Mrs    C  \n",
       "2   NaN        S  Miss    X  \n",
       "3  C123        S   Mrs    C  \n",
       "4   NaN        S    Mr    X  "
      ]
     },
     "execution_count": 9,
     "metadata": {},
     "output_type": "execute_result"
    }
   ],
   "source": [
    "X, y = df_train.ix[:,1:], df_train.Survived\n",
    "X_train, X_test, y_train, y_test = cross_validation.train_test_split(\n",
    "   df_train.ix[:,1:], df_train.Survived, test_size=0.4, random_state=RND\n",
    ")\n",
    "kf_total = KFold(len(X), n_folds=10, shuffle=True, random_state=RND)\n",
    "X.drop('Name', axis=1).head(5)"
   ]
  },
  {
   "cell_type": "code",
   "execution_count": 8,
   "metadata": {
    "collapsed": false
   },
   "outputs": [
    {
     "data": {
      "text/plain": [
       "array([ 1.        ,  0.        ,  0.        ,  0.        ,  0.        ,\n",
       "        0.        ,  0.        ,  0.        ,  0.        ,  0.        ,\n",
       "        0.        ,  0.        ,  1.        ,  0.        ,  0.        ,\n",
       "        0.        ,  0.        ,  0.        , -0.5924806 , -0.50244517,\n",
       "        1.        ,  3.        ,  0.        ])"
      ]
     },
     "execution_count": 8,
     "metadata": {},
     "output_type": "execute_result"
    }
   ],
   "source": [
    "mapper = DataFrameMapper([\n",
    "     ('Sex', preprocessing.LabelBinarizer()),\n",
    "     ('Title', preprocessing.LabelBinarizer()),\n",
    "     (['Age'], [preprocessing.Imputer(), preprocessing.StandardScaler()]),\n",
    "     (['Fare'], [preprocessing.Imputer(),preprocessing.StandardScaler()]),\n",
    "     (['SibSp'], preprocessing.Imputer(strategy='most_frequent')),\n",
    "     (['Pclass'], preprocessing.Imputer(strategy='most_frequent')),\n",
    "     (['Parch'], preprocessing.Imputer(strategy='most_frequent'))\n",
    "    ])\n",
    "# demo:\n",
    "mapper.fit_transform(df_train.copy())[0]"
   ]
  },
  {
   "cell_type": "code",
   "execution_count": 10,
   "metadata": {
    "collapsed": false
   },
   "outputs": [
    {
     "data": {
      "text/plain": [
       "array([[ 1.        , -0.5924806 , -0.50244517,  3.        ,  0.        ,\n",
       "         1.        ,  0.        ,  2.        ,  0.        ,  0.        ,\n",
       "         0.        ,  0.        ,  0.        ,  0.        ,  0.        ,\n",
       "         0.        ,  1.        ]])"
      ]
     },
     "execution_count": 10,
     "metadata": {},
     "output_type": "execute_result"
    }
   ],
   "source": [
    "# alternative feature mapper inspired by eyebervil's feature selection\n",
    "# things to consider:\n",
    "# - convert titles to Mr. / Mrs.\n",
    "# - define FamilySize = SibSp + Parch + 1\n",
    "# - exploit cabin information\n",
    "# - impute age via regression (how can this be structured in DataFrameMapper?)\n",
    "\n",
    "# prepare a vectorized method that will standardize titles to one of: Mr, Mm, Ms\n",
    "tmap = {}\n",
    "tmap.update({k: 'Mr' for k in (\"Mr\", \"Capt\", \"Master\", \"Col\", \"Don\", \"Jonkheer\", \"Major\", \"Rev\", \"Sir\")})\n",
    "tmap.update({k: 'Mm' for k in (\"Mrs\", \"Dona\", \"Lady\", \"Mme\", \"Lady\", \"the Countess\")})\n",
    "tmap.update({k: 'Ms' for k in (\"Mlle\", \"Ms\", \"Miss\")})\n",
    "lup = dict(male=tmap.copy(), female=tmap.copy())\n",
    "lup['male']['Dr'] = 'Mr'\n",
    "lup['female']['Dr'] = 'Mm'\n",
    "lup_default = 'Mm'\n",
    "def standardize_title(F):\n",
    "    title, sex = F\n",
    "    res = lup.get(sex, {}).get(title, lup_default)\n",
    "    #print lup.get(sex, {})\n",
    "    #print title, sex, res\n",
    "    return res\n",
    "def vectorized_standardize_title(F):\n",
    "    return np.apply_along_axis(standardize_title, 1, F)\n",
    "std_title = vectorized_standardize_title\n",
    "def compute_family_size(F):\n",
    "    return np.sum(F[:,0:2], axis=1)+1\n",
    "\n",
    "mapper2 = DataFrameMapper([\n",
    "     ('Sex', preprocessing.LabelBinarizer()),\n",
    "     (['Age'], [preprocessing.Imputer(), preprocessing.StandardScaler()]),\n",
    "     (['Fare'], [preprocessing.Imputer(),preprocessing.StandardScaler()]),\n",
    "     (['Pclass'], preprocessing.Imputer(strategy='most_frequent')),\n",
    "     # title group\n",
    "     (['Title', 'Sex'], [preprocessing.FunctionTransformer(\n",
    "                    std_title,\n",
    "                    validate=False\n",
    "                ),\n",
    "                preprocessing.LabelBinarizer()]),\n",
    "     # family size\n",
    "     (['SibSp', 'Parch'], preprocessing.FunctionTransformer(compute_family_size)),\n",
    "     # cabin information: check for presence\n",
    "     #('Cabin', preprocessing.FunctionTransformer(lambda F: (pd.isnull(F)).astype(np.float64), validate=False)),\n",
    "     # deck extracted from cabin\n",
    "     ('Deck', preprocessing.LabelBinarizer())\n",
    "    ])\n",
    "# demo\n",
    "mapper2.fit_transform(df_train.copy())[0:1]"
   ]
  },
  {
   "cell_type": "code",
   "execution_count": 44,
   "metadata": {
    "collapsed": false
   },
   "outputs": [
    {
     "data": {
      "text/plain": [
       "array([[  1.        ,  11.        ,  -0.5924806 ,  -0.50244517,\n",
       "          1.        ,   3.        ,   0.        ,   8.        ,   0.        ],\n",
       "       [  0.        ,  12.        ,   0.63878901,   0.78684529,\n",
       "          1.        ,   1.        ,   0.        ,   2.        ,   0.        ]])"
      ]
     },
     "execution_count": 44,
     "metadata": {},
     "output_type": "execute_result"
    }
   ],
   "source": [
    "# mapper for tree-based regressions\n",
    "mapper3 = DataFrameMapper([\n",
    "     ('Sex', preprocessing.LabelEncoder()),\n",
    "     ('Title', preprocessing.LabelEncoder()),\n",
    "     (['Age'], [preprocessing.Imputer(), preprocessing.StandardScaler()]),\n",
    "     (['Fare'], [preprocessing.Imputer(),preprocessing.StandardScaler()]),\n",
    "     (['SibSp'], preprocessing.Imputer(strategy='most_frequent')),\n",
    "     (['Pclass'], preprocessing.Imputer(strategy='most_frequent')),\n",
    "     (['Parch'], preprocessing.Imputer(strategy='most_frequent')),\n",
    "     ('Deck', preprocessing.LabelEncoder()),    # Titanic deck as extracted from the Cabin\n",
    "     ('TicketNum', None)  # fully numeric ticket, or with a value?\n",
    "    ])\n",
    "# demo:\n",
    "mapper3.fit_transform(df_train.copy())[0:2]"
   ]
  },
  {
   "cell_type": "markdown",
   "metadata": {},
   "source": [
    "#### Build pipeline"
   ]
  },
  {
   "cell_type": "code",
   "execution_count": 11,
   "metadata": {
    "collapsed": false
   },
   "outputs": [],
   "source": [
    "model = dict()"
   ]
  },
  {
   "cell_type": "markdown",
   "metadata": {},
   "source": [
    "##### Random Forest"
   ]
  },
  {
   "cell_type": "code",
   "execution_count": 12,
   "metadata": {
    "collapsed": false
   },
   "outputs": [],
   "source": [
    "cls = 'rf'\n",
    "mod = model[cls] = dict()\n",
    "mod['classifier'] = ensemble.RandomForestClassifier(n_estimators=100, oob_score=True, n_jobs=-1, random_state=RND)\n",
    "mod['params'] = dict(model__n_estimators=[100], model__random_state=[RND])\n",
    "mod['pipe'] = pipeline.Pipeline([('featurize', mapper), ('model', mod['classifier'])])\n",
    "mod['model'] = GridSearchCV(mod['pipe'], mod['params'], cv=10, n_jobs=-1)"
   ]
  },
  {
   "cell_type": "code",
   "execution_count": 77,
   "metadata": {
    "collapsed": false
   },
   "outputs": [
    {
     "name": "stdout",
     "output_type": "stream",
     "text": [
      "Accuracy: 0.81 (+/- 0.05)\n"
     ]
    }
   ],
   "source": [
    "mod['model'].fit(df_train.copy(), df_train.Survived)\n",
    "mod['pred'] = pd.DataFrame({'PassengerId': df_comp.PassengerId,\n",
    "                            'Survived' : mod['model'].predict(df_comp.copy())})\n",
    "scores = cross_val_score(mod['model'], df_train.copy(), df_train.Survived, cv=10)\n",
    "print(\"Accuracy: %0.2f (+/- %0.2f)\" % (scores.mean(), scores.std()))\n",
    "mod['pred'].to_csv('titanic/submissions/titanic_{}.csv'.format(cls), header=True, index=False)"
   ]
  },
  {
   "cell_type": "markdown",
   "metadata": {},
   "source": [
    "##### SVM"
   ]
  },
  {
   "cell_type": "code",
   "execution_count": 16,
   "metadata": {
    "collapsed": false
   },
   "outputs": [],
   "source": [
    "cls='svm'\n",
    "mod = model[cls] = dict()\n",
    "mod['classifier'] = svm.SVC(random_state=RND)\n",
    "mod['params'] = dict(model__kernel=['rbf', 'linear'], model__random_state=[RND])\n",
    "mod['pipe'] = pipeline.Pipeline([('featurize', mapper), ('model', mod['classifier'])])\n",
    "mod['model'] = GridSearchCV(mod['pipe'], mod['params'], cv=10, n_jobs=-1)"
   ]
  },
  {
   "cell_type": "code",
   "execution_count": 322,
   "metadata": {
    "collapsed": false
   },
   "outputs": [
    {
     "name": "stdout",
     "output_type": "stream",
     "text": [
      "Accuracy: 0.832 (+/- 0.031)\n",
      "Accuracy: 0.835\n",
      "[[490  59]\n",
      " [ 88 254]]\n"
     ]
    }
   ],
   "source": [
    "mod['model'].fit(df_train.copy(), df_train.Survived)\n",
    "mod['pred'] = pd.DataFrame({'PassengerId': df_comp.PassengerId,\n",
    "                            'Survived' : mod['model'].predict(df_comp.copy())})\n",
    "scores = cross_val_score(mod['model'], df_train.copy(), df_train.Survived, cv=10)\n",
    "print(\"Accuracy: %0.3f (+/- %0.3f)\" % (scores.mean(), scores.std()))\n",
    "print(\"Accuracy: %0.3f\" % (model['svm']['model'].score(df_train.copy(), df_train.Survived)))\n",
    "print metrics.confusion_matrix(df_train.Survived, mod['model'].predict(df_train.copy()))\n",
    "mod['pred'].to_csv('titanic/submissions/titanic_{}.csv'.format(cls), header=True, index=False)"
   ]
  },
  {
   "cell_type": "markdown",
   "metadata": {},
   "source": [
    "##### SVM 2 (add poly, use alt. features)"
   ]
  },
  {
   "cell_type": "code",
   "execution_count": 332,
   "metadata": {
    "collapsed": true
   },
   "outputs": [],
   "source": [
    "cls='svm2'\n",
    "mod = model[cls] = dict()\n",
    "mod['classifier'] = svm.SVC(random_state=RND)\n",
    "mod['params'] = dict(model__kernel=['rbf', 'linear', 'poly'],\n",
    "                     model__C=[0.1, 1.0, 10.0],\n",
    "                     model__random_state=[RND])\n",
    "mod['pipe'] = pipeline.Pipeline([('featurize', mapper2), ('model', mod['classifier'])])\n",
    "mod['model'] = GridSearchCV(mod['pipe'], mod['params'], cv=10, n_jobs=-1)"
   ]
  },
  {
   "cell_type": "code",
   "execution_count": 333,
   "metadata": {
    "collapsed": false
   },
   "outputs": [
    {
     "name": "stdout",
     "output_type": "stream",
     "text": [
      "Accuracy: 0.826 (+/- 0.036)\n",
      "Accuracy: 0.835\n",
      "[[490  59]\n",
      " [ 85 257]]\n"
     ]
    }
   ],
   "source": [
    "mod['model'].fit(df_train.copy(), df_train.Survived)\n",
    "mod['pred'] = pd.DataFrame({'PassengerId': df_comp.PassengerId,\n",
    "                            'Survived' : mod['model'].predict(df_comp.copy())})\n",
    "scores = cross_val_score(mod['model'], df_train.copy(), df_train.Survived, cv=10)\n",
    "print(\"Accuracy: %0.3f (+/- %0.3f)\" % (scores.mean(), scores.std()))\n",
    "print(\"Accuracy: %0.3f\" % (model['svm']['model'].score(df_train.copy(), df_train.Survived)))\n",
    "print metrics.confusion_matrix(df_train.Survived, mod['model'].predict(df_train.copy()))\n",
    "mod['pred'].to_csv('titanic/submissions/titanic_{}.csv'.format(cls), header=True, index=False)"
   ]
  },
  {
   "cell_type": "markdown",
   "metadata": {},
   "source": [
    "##### SVM 3: like svm, but only linear and trying values of regularizer"
   ]
  },
  {
   "cell_type": "code",
   "execution_count": 17,
   "metadata": {
    "collapsed": false
   },
   "outputs": [],
   "source": [
    "cls='svm3'\n",
    "mod = model[cls] = dict()\n",
    "mod['classifier'] = svm.SVC(random_state=RND)\n",
    "mod['params'] = dict(model__kernel=['linear'], model__random_state=[RND],\n",
    "                     model__C=[0.1, 1.0, 10.0],)\n",
    "mod['pipe'] = pipeline.Pipeline([('featurize', mapper), ('model', mod['classifier'])])\n",
    "mod['model'] = GridSearchCV(mod['pipe'], mod['params'], cv=10, n_jobs=-1)"
   ]
  },
  {
   "cell_type": "code",
   "execution_count": 19,
   "metadata": {
    "collapsed": false
   },
   "outputs": [
    {
     "name": "stdout",
     "output_type": "stream",
     "text": [
      "Accuracy: 0.825 (+/- 0.031)\n",
      "[[482  67]\n",
      " [ 87 255]]\n"
     ]
    }
   ],
   "source": [
    "mod['model'].fit(df_train.copy(), df_train.Survived)\n",
    "mod['pred'] = pd.DataFrame({'PassengerId': df_comp.PassengerId,\n",
    "                            'Survived' : mod['model'].predict(df_comp.copy())})\n",
    "scores = cross_val_score(mod['model'], df_train.copy(), df_train.Survived, cv=10)\n",
    "print(\"Accuracy: %0.3f (+/- %0.3f)\" % (scores.mean(), scores.std()))\n",
    "print metrics.confusion_matrix(df_train.Survived, mod['model'].predict(df_train.copy()))\n",
    "mod['pred'].to_csv('titanic/submissions/titanic_{}.csv'.format(cls), header=True, index=False)"
   ]
  },
  {
   "cell_type": "markdown",
   "metadata": {},
   "source": [
    "##### Ada Boost"
   ]
  },
  {
   "cell_type": "code",
   "execution_count": 319,
   "metadata": {
    "collapsed": false
   },
   "outputs": [],
   "source": [
    "cls='adaboost'\n",
    "mod = model[cls] = dict()\n",
    "mod['classifier'] = ensemble.AdaBoostClassifier(random_state=RND)\n",
    "mod['params'] = {'model__learning_rate': [0.3, 1.0, 1.3],\n",
    "                 'model__base_estimator': [tree.DecisionTreeClassifier()]}\n",
    "mod['pipe'] = pipeline.Pipeline([('featurize', mapper), ('model', mod['classifier'])])\n",
    "mod['model'] = GridSearchCV(mod['pipe'], mod['params'], cv=10, n_jobs=-1)"
   ]
  },
  {
   "cell_type": "code",
   "execution_count": 320,
   "metadata": {
    "collapsed": false
   },
   "outputs": [
    {
     "name": "stdout",
     "output_type": "stream",
     "text": [
      "Accuracy: 0.78 (+/- 0.05)\n",
      "Accuracy: 0.835\n",
      "[[547   2]\n",
      " [ 12 330]]\n"
     ]
    }
   ],
   "source": [
    "mod['model'].fit(df_train.copy(), df_train.Survived)\n",
    "mod['pred'] = pd.DataFrame({'PassengerId': df_comp.PassengerId,\n",
    "                            'Survived' : mod['model'].predict(df_comp.copy())})\n",
    "scores = cross_val_score(mod['model'], df_train.copy(), df_train.Survived, cv=10)\n",
    "print(\"Accuracy: %0.2f (+/- %0.2f)\" % (scores.mean(), scores.std()))\n",
    "print(\"Accuracy: %0.3f\" % (model['svm']['model'].score(df_train.copy(), df_train.Survived)))\n",
    "print metrics.confusion_matrix(df_train.Survived, mod['model'].predict(df_train.copy()))\n",
    "mod['pred'].to_csv('titanic/submissions/titanic_{}.csv'.format(cls), header=True, index=False)\n",
    "# OK this is clearly overfitted..."
   ]
  },
  {
   "cell_type": "markdown",
   "metadata": {},
   "source": [
    "##### Logistic Regression"
   ]
  },
  {
   "cell_type": "code",
   "execution_count": 292,
   "metadata": {
    "collapsed": true
   },
   "outputs": [],
   "source": [
    "cls = 'logit'\n",
    "mod = model[cls] = dict()\n",
    "mod['classifier'] = linear_model.LogisticRegressionCV(Cs=20, cv=10, n_jobs=-1, random_state=RND)\n",
    "mod['model'] = pipeline.Pipeline([('featurize', mapper), ('model', mod['classifier'])])"
   ]
  },
  {
   "cell_type": "code",
   "execution_count": 294,
   "metadata": {
    "collapsed": false
   },
   "outputs": [
    {
     "name": "stdout",
     "output_type": "stream",
     "text": [
      "Accuracy: 0.833 (+/- 0.027)\n",
      "[[483  66]\n",
      " [ 89 253]]\n"
     ]
    }
   ],
   "source": [
    "mod['model'].fit(df_train.copy(), df_train.Survived)\n",
    "mod['pred'] = pd.DataFrame({'PassengerId': df_comp.PassengerId,\n",
    "                            'Survived' : mod['model'].predict(df_comp.copy())})\n",
    "print(\"Accuracy: %0.3f (+/- %0.3f)\" % (\n",
    "    np.mean([max(sc) for sc in mod['classifier'].scores_[1]]),\n",
    "    np.std([max(sc) for sc in mod['classifier'].scores_[1]])\n",
    "))\n",
    "print metrics.confusion_matrix(df_train.Survived, mod['model'].predict(df_train.copy()))\n",
    "mod['pred'].to_csv('titanic/submissions/titanic_{}.csv'.format(cls), header=True, index=False)"
   ]
  },
  {
   "cell_type": "markdown",
   "metadata": {},
   "source": [
    "##### Logistic Regression v2 (engineered features)"
   ]
  },
  {
   "cell_type": "code",
   "execution_count": 255,
   "metadata": {
    "collapsed": true
   },
   "outputs": [],
   "source": [
    "cls = 'logit2'\n",
    "mod = model[cls] = dict()\n",
    "mod['classifier'] = linear_model.LogisticRegressionCV(Cs=20, cv=10, n_jobs=-1, random_state=RND)\n",
    "mod['model'] = pipeline.Pipeline([('featurize', mapper2), ('model', mod['classifier'])])"
   ]
  },
  {
   "cell_type": "code",
   "execution_count": 277,
   "metadata": {
    "collapsed": false
   },
   "outputs": [
    {
     "name": "stdout",
     "output_type": "stream",
     "text": [
      "Accuracy: 0.817 (+/- 0.021)\n",
      "[[476  73]\n",
      " [ 94 248]]\n"
     ]
    }
   ],
   "source": [
    "mod = model['logit2']\n",
    "mod['model'].fit(df_train.copy(), df_train.Survived)\n",
    "mod['pred'] = pd.DataFrame({'PassengerId': df_comp.PassengerId,\n",
    "                            'Survived' : mod['model'].predict(df_comp.copy())})\n",
    "print(\"Accuracy: %0.3f (+/- %0.3f)\" % (\n",
    "    np.mean([max(sc) for sc in mod['classifier'].scores_[1]]),\n",
    "    np.std([max(sc) for sc in mod['classifier'].scores_[1]])\n",
    "))\n",
    "print metrics.confusion_matrix(df_train.Survived, mod['model'].predict(df_train.copy()))\n",
    "mod['pred'].to_csv('titanic/submissions/titanic_{}.csv'.format(cls), header=True, index=False)"
   ]
  },
  {
   "cell_type": "markdown",
   "metadata": {},
   "source": [
    "##### Logistic with PCA"
   ]
  },
  {
   "cell_type": "code",
   "execution_count": 272,
   "metadata": {
    "collapsed": false
   },
   "outputs": [],
   "source": [
    "cls = 'logpca'\n",
    "mod = model[cls] = dict()\n",
    "mod['classifier'] = linear_model.LogisticRegressionCV(Cs=20, cv=10, n_jobs=-1, random_state=RND)\n",
    "mod['model'] = pipeline.Pipeline([('featurize', mapper),\n",
    "                                  ('pca', decomposition.PCA(n_components=10)),\n",
    "                                  ('logit', mod['classifier'])])"
   ]
  },
  {
   "cell_type": "code",
   "execution_count": 278,
   "metadata": {
    "collapsed": false
   },
   "outputs": [
    {
     "name": "stdout",
     "output_type": "stream",
     "text": [
      "Accuracy: 0.831 (+/- 0.026)\n",
      "[[483  66]\n",
      " [ 88 254]]\n"
     ]
    }
   ],
   "source": [
    "mod['model'].fit(df_train.copy(), df_train.Survived)\n",
    "mod['pred'] = pd.DataFrame({'PassengerId': df_comp.PassengerId,\n",
    "                            'Survived' : mod['model'].predict(df_comp.copy())})\n",
    "print(\"Accuracy: %0.3f (+/- %0.3f)\" % (\n",
    "    np.mean([max(sc) for sc in mod['classifier'].scores_[1]]),\n",
    "    np.std([max(sc) for sc in mod['classifier'].scores_[1]])\n",
    "))\n",
    "print metrics.confusion_matrix(df_train.Survived, mod['model'].predict(df_train.copy()))\n",
    "mod['pred'].to_csv('titanic/submissions/titanic_{}.csv'.format(cls), header=True, index=False)"
   ]
  },
  {
   "cell_type": "markdown",
   "metadata": {},
   "source": [
    "##### Logistic with polynomial features"
   ]
  },
  {
   "cell_type": "code",
   "execution_count": 268,
   "metadata": {
    "collapsed": false
   },
   "outputs": [],
   "source": [
    "cls = 'logpol'\n",
    "mod = model[cls] = dict()\n",
    "mod['classifier'] = linear_model.LogisticRegressionCV(Cs=20, cv=10, n_jobs=-1, random_state=RND)\n",
    "mod['model'] = pipeline.Pipeline([('featurize', mapper), \n",
    "                                  ('polynomial', preprocessing.PolynomialFeatures(interaction_only=True,\n",
    "                                                                                 degree=2)),\n",
    "                                  ('model', mod['classifier'])])"
   ]
  },
  {
   "cell_type": "code",
   "execution_count": 271,
   "metadata": {
    "collapsed": false
   },
   "outputs": [
    {
     "name": "stdout",
     "output_type": "stream",
     "text": [
      "Accuracy: 0.84 (+/- 0.03)\n",
      "[[495  54]\n",
      " [ 89 253]]\n"
     ]
    }
   ],
   "source": [
    "mod['model'].fit(df_train.copy(), df_train.Survived)\n",
    "mod['pred'] = pd.DataFrame({'PassengerId': df_comp.PassengerId,\n",
    "                            'Survived' : mod['model'].predict(df_comp.copy())})\n",
    "print(\"Accuracy: %0.2f (+/- %0.2f)\" % (\n",
    "    np.mean([max(sc) for sc in mod['classifier'].scores_[1]]),\n",
    "    np.std([max(sc) for sc in mod['classifier'].scores_[1]])\n",
    "))\n",
    "print metrics.confusion_matrix(df_train.Survived, mod['model'].predict(df_train.copy()))\n",
    "mod['pred'].to_csv('titanic/submissions/titanic_{}.csv'.format(cls), header=True, index=False)"
   ]
  },
  {
   "cell_type": "markdown",
   "metadata": {},
   "source": [
    "##### xgboost"
   ]
  },
  {
   "cell_type": "code",
   "execution_count": 50,
   "metadata": {
    "collapsed": true
   },
   "outputs": [],
   "source": [
    "Y_train = df_train.Survived.as_matrix()\n",
    "X_train = mapper3.fit_transform(df_train.copy())\n",
    "dtrain = xgb.DMatrix(X_train, label=Y_train)"
   ]
  },
  {
   "cell_type": "code",
   "execution_count": null,
   "metadata": {
    "collapsed": true
   },
   "outputs": [],
   "source": [
    "cls = 'xgb1'\n",
    "mod = model[cls] = dict()\n",
    "mod['classifier'] = xgb.XGBClassifier()\n",
    "mod['params'] = {'model__max_depth': [2, 4, 6],\n",
    "                 'model__n_estimators': [50, 100, 200]}\n",
    "mod['pipe'] = pipeline.Pipeline([('featurize', mapper3), ('model', mod['classifier'])])\n",
    "mod['model'] = GridSearchCV(mod['pipe'], mod['params'], cv=10, n_jobs=-1)"
   ]
  },
  {
   "cell_type": "code",
   "execution_count": null,
   "metadata": {
    "collapsed": true
   },
   "outputs": [],
   "source": [
    "mod['model'].fit(df_train.copy(), df_train.Survived)\n",
    "mod['pred'] = pd.DataFrame({'PassengerId': df_comp.PassengerId,\n",
    "                            'Survived' : mod['model'].predict(df_comp.copy())})\n"
   ]
  },
  {
   "cell_type": "code",
   "execution_count": null,
   "metadata": {
    "collapsed": true
   },
   "outputs": [],
   "source": [
    "print(mod['pipe'].best_score_)\n",
    "print(mod['pipe'].best_params_)\n"
   ]
  },
  {
   "cell_type": "code",
   "execution_count": 73,
   "metadata": {
    "collapsed": false
   },
   "outputs": [
    {
     "name": "stdout",
     "output_type": "stream",
     "text": [
      "[[243  44]\n",
      " [ 31 128]]\n",
      "[[242  20]\n",
      " [ 66 117]]\n"
     ]
    }
   ],
   "source": [
    "kf = cross_validation.KFold(Y_train.shape[0], n_folds=2, shuffle=True, random_state=RND)\n",
    "for train_index, test_index in kf:\n",
    "    xgb_model = xgb.XGBClassifier().fit(X_train[train_index],Y_train[train_index])\n",
    "    predictions = xgb_model.predict(X_train[test_index])\n",
    "    actuals = Y_train[test_index]\n",
    "    print(metrics.confusion_matrix(actuals, predictions))"
   ]
  },
  {
   "cell_type": "code",
   "execution_count": 71,
   "metadata": {
    "collapsed": false
   },
   "outputs": [
    {
     "data": {
      "text/plain": [
       "array([1, 0, 1, 0, 0, 1, 0, 1, 0, 0, 1, 0, 0, 0, 0, 0, 1, 0, 1, 1, 0, 1, 1,\n",
       "       0, 1, 1, 1, 0, 1, 0, 0, 0, 0, 0, 0, 0, 0, 0, 0, 0, 0, 0, 0, 1, 0, 0,\n",
       "       0, 0, 1, 0, 0, 0, 1, 0, 0, 0, 1, 0, 1, 1, 1, 0, 0, 0, 0, 0, 1, 0, 1,\n",
       "       0, 0, 0, 1, 0, 0, 0, 0, 0, 0, 0, 0, 0, 0, 0, 0, 0, 0, 0, 0, 0, 0, 0,\n",
       "       0, 0, 1, 1, 0, 1, 0, 0, 0, 0, 1, 1, 0, 0, 1, 0, 1, 0, 0, 0, 0, 0, 0,\n",
       "       0, 0, 0, 0, 0, 0, 0, 0, 1, 1, 0, 0, 0, 1, 1, 1, 0, 0, 0, 0, 0, 0, 1,\n",
       "       0, 0, 1, 0, 0, 1, 0, 0, 0, 0, 1, 1, 0, 1, 0, 1, 1, 0, 1, 0, 0, 1, 1,\n",
       "       0, 1, 1, 0, 1, 0, 0, 0, 0, 1, 0, 0, 0, 0, 0, 0, 1, 0, 0, 0, 1, 0, 1,\n",
       "       0, 0, 1, 0, 1, 1, 0, 0, 0, 1, 0, 1, 0, 1, 0, 0, 0, 1, 0, 0, 0, 0, 0,\n",
       "       0, 0, 0, 0, 1, 0, 1, 0, 0, 0, 1, 0, 0, 0, 1, 0, 0, 0, 0, 0, 0, 0, 0,\n",
       "       0, 0, 0, 1, 1, 1, 0, 0, 1, 0, 0, 1, 1, 0, 0, 0, 0, 0, 0, 1, 0, 1, 0,\n",
       "       0, 1, 1, 0, 0, 1, 0, 0, 1, 1, 0, 1, 0, 1, 0, 1, 1, 0, 1, 1, 0, 0, 0,\n",
       "       1, 0, 0, 1, 0, 0, 1, 1, 0, 0, 0, 0, 0, 1, 1, 1, 0, 0, 1, 0, 0, 1, 0,\n",
       "       0, 1, 0, 0, 0, 0, 0, 0, 1, 0, 0, 0, 1, 1, 0, 0, 0, 0, 1, 1, 0, 0, 0,\n",
       "       0, 1, 0, 0, 0, 0, 0, 1, 0, 0, 0, 0, 0, 0, 1, 0, 1, 0, 0, 0, 0, 0, 0,\n",
       "       0, 0, 0, 0, 0, 0, 1, 0, 0, 0, 1, 0, 1, 0, 1, 1, 0, 0, 1, 1, 0, 0, 1,\n",
       "       0, 0, 0, 1, 0, 1, 0, 0, 1, 0, 1, 0, 1, 0, 1, 1, 0, 1, 0, 0, 1, 1, 1,\n",
       "       1, 0, 1, 0, 0, 0, 0, 0, 0, 0, 0, 1, 0, 0, 0, 0, 0, 0, 0, 0, 0, 1, 1,\n",
       "       0, 1, 0, 0, 0, 0, 1, 0, 0, 0, 0, 1, 0, 1, 1, 1, 0, 0, 0, 1, 0, 1, 0,\n",
       "       0, 0, 0, 1, 0, 1, 0, 0])"
      ]
     },
     "execution_count": 71,
     "metadata": {},
     "output_type": "execute_result"
    }
   ],
   "source": [
    "predictions"
   ]
  },
  {
   "cell_type": "code",
   "execution_count": 64,
   "metadata": {
    "collapsed": false
   },
   "outputs": [
    {
     "name": "stdout",
     "output_type": "stream",
     "text": [
      "running cross validation\n"
     ]
    },
    {
     "data": {
      "text/html": [
       "<div>\n",
       "<table border=\"1\" class=\"dataframe\">\n",
       "  <thead>\n",
       "    <tr style=\"text-align: right;\">\n",
       "      <th></th>\n",
       "      <th>test-error-mean</th>\n",
       "      <th>test-error-std</th>\n",
       "      <th>train-error-mean</th>\n",
       "      <th>train-error-std</th>\n",
       "    </tr>\n",
       "  </thead>\n",
       "  <tbody>\n",
       "    <tr>\n",
       "      <th>0</th>\n",
       "      <td>0.229213</td>\n",
       "      <td>0.044150</td>\n",
       "      <td>0.208989</td>\n",
       "      <td>0.011798</td>\n",
       "    </tr>\n",
       "    <tr>\n",
       "      <th>1</th>\n",
       "      <td>0.207865</td>\n",
       "      <td>0.034994</td>\n",
       "      <td>0.190169</td>\n",
       "      <td>0.009426</td>\n",
       "    </tr>\n",
       "  </tbody>\n",
       "</table>\n",
       "</div>"
      ],
      "text/plain": [
       "   test-error-mean  test-error-std  train-error-mean  train-error-std\n",
       "0         0.229213        0.044150          0.208989         0.011798\n",
       "1         0.207865        0.034994          0.190169         0.009426"
      ]
     },
     "execution_count": 64,
     "metadata": {},
     "output_type": "execute_result"
    }
   ],
   "source": [
    "param = {'max_depth':2, 'eta':1, 'silent':1, 'objective':'binary:logistic',\n",
    "         'nthread': 4}\n",
    "num_round = 2\n",
    "print ('running cross validation')\n",
    "# do cross validation, this will print result out as\n",
    "# [iteration]  metric_name:mean_value+std_value\n",
    "# std_value is standard deviation of the metric\n",
    "xgb.cv(param, dtrain, num_round, nfold=5,\n",
    "       metrics={'error'}, seed = 1)"
   ]
  },
  {
   "cell_type": "code",
   "execution_count": 46,
   "metadata": {
    "collapsed": false
   },
   "outputs": [
    {
     "ename": "NameError",
     "evalue": "name 'Xs' is not defined",
     "output_type": "error",
     "traceback": [
      "\u001b[0;31m---------------------------------------------------------------------------\u001b[0m",
      "\u001b[0;31mNameError\u001b[0m                                 Traceback (most recent call last)",
      "\u001b[0;32m<ipython-input-46-cc73072b7b12>\u001b[0m in \u001b[0;36m<module>\u001b[0;34m()\u001b[0m\n\u001b[1;32m      1\u001b[0m \u001b[0;32mimport\u001b[0m \u001b[0mxgboost\u001b[0m \u001b[0;32mas\u001b[0m \u001b[0mxgb\u001b[0m\u001b[0;34m\u001b[0m\u001b[0m\n\u001b[0;32m----> 2\u001b[0;31m \u001b[0mgbm\u001b[0m \u001b[0;34m=\u001b[0m \u001b[0mxgb\u001b[0m\u001b[0;34m.\u001b[0m\u001b[0mXGBClassifier\u001b[0m\u001b[0;34m(\u001b[0m\u001b[0mmax_depth\u001b[0m\u001b[0;34m=\u001b[0m\u001b[0;36m4\u001b[0m\u001b[0;34m,\u001b[0m \u001b[0mn_estimators\u001b[0m\u001b[0;34m=\u001b[0m\u001b[0;36m1000\u001b[0m\u001b[0;34m,\u001b[0m \u001b[0mlearning_rate\u001b[0m\u001b[0;34m=\u001b[0m\u001b[0;36m0.05\u001b[0m\u001b[0;34m)\u001b[0m\u001b[0;34m.\u001b[0m\u001b[0mfit\u001b[0m\u001b[0;34m(\u001b[0m\u001b[0mXs\u001b[0m\u001b[0;34m,\u001b[0m \u001b[0mYs\u001b[0m\u001b[0;34m)\u001b[0m\u001b[0;34m\u001b[0m\u001b[0m\n\u001b[0m\u001b[1;32m      3\u001b[0m \u001b[0mpredictions\u001b[0m \u001b[0;34m=\u001b[0m \u001b[0mgbm\u001b[0m\u001b[0;34m.\u001b[0m\u001b[0mpredict\u001b[0m\u001b[0;34m(\u001b[0m\u001b[0mmapper\u001b[0m\u001b[0;34m.\u001b[0m\u001b[0mfit_transform\u001b[0m\u001b[0;34m(\u001b[0m\u001b[0mdf_comp\u001b[0m\u001b[0;34m.\u001b[0m\u001b[0mcopy\u001b[0m\u001b[0;34m(\u001b[0m\u001b[0;34m)\u001b[0m\u001b[0;34m)\u001b[0m\u001b[0;34m)\u001b[0m\u001b[0;34m\u001b[0m\u001b[0m\n\u001b[1;32m      4\u001b[0m \u001b[0mmetrics\u001b[0m\u001b[0;34m.\u001b[0m\u001b[0maccuracy_score\u001b[0m\u001b[0;34m(\u001b[0m\u001b[0mYs\u001b[0m\u001b[0;34m,\u001b[0m \u001b[0mgbm\u001b[0m\u001b[0;34m.\u001b[0m\u001b[0mpredict\u001b[0m\u001b[0;34m(\u001b[0m\u001b[0mXs\u001b[0m\u001b[0;34m)\u001b[0m\u001b[0;34m)\u001b[0m\u001b[0;34m\u001b[0m\u001b[0m\n",
      "\u001b[0;31mNameError\u001b[0m: name 'Xs' is not defined"
     ]
    }
   ],
   "source": [
    "gbm = xgb.XGBClassifier(max_depth=4, n_estimators=1000, learning_rate=0.05).fit(Xs, Ys)\n",
    "predictions = gbm.predict(mapper.fit_transform(df_comp.copy()))\n",
    "metrics.accuracy_score(Ys, gbm.predict(Xs))"
   ]
  },
  {
   "cell_type": "markdown",
   "metadata": {},
   "source": [
    "##### Old stuff"
   ]
  },
  {
   "cell_type": "code",
   "execution_count": 280,
   "metadata": {
    "collapsed": false
   },
   "outputs": [],
   "source": [
    "# TODO: this was trained on full sample!\n",
    "if False:\n",
    "    # https://github.com/justmarkham/DAT7/blob/master/notebooks/12_advanced_model_evaluation.ipynb\n",
    "    # predict probability of survival\n",
    "    y_pred_prob = pipe.predict_proba(df_train)[:, 1]\n",
    "    # plot ROC curve\n",
    "    fpr, tpr, thresholds = metrics.roc_curve(df_train.Survived, y_pred_prob)\n",
    "    plt.plot(fpr, tpr)\n",
    "    plt.xlim([0.0, 0.3])\n",
    "    plt.ylim([0.7, 1.0])\n",
    "    plt.xlabel('False Positive Rate (1 - Specificity)')\n",
    "    plt.ylabel('True Positive Rate (Sensitivity)')"
   ]
  }
 ],
 "metadata": {
  "kernelspec": {
   "display_name": "Python 2",
   "language": "python",
   "name": "python2"
  },
  "language_info": {
   "codemirror_mode": {
    "name": "ipython",
    "version": 2
   },
   "file_extension": ".py",
   "mimetype": "text/x-python",
   "name": "python",
   "nbconvert_exporter": "python",
   "pygments_lexer": "ipython2",
   "version": "2.7.11"
  }
 },
 "nbformat": 4,
 "nbformat_minor": 0
}
